{
 "cells": [
  {
   "cell_type": "code",
   "execution_count": 1,
   "metadata": {},
   "outputs": [],
   "source": [
    "from types import SimpleNamespace   \n",
    "\n",
    "from kornia.utils.grid import create_meshgrid3d\n",
    "import torch\n",
    "\n",
    "from models.networks import NGPGv2\n",
    "from models.rendering_NGPA import render\n",
    "from utils.utils import slim_ckpt, load_ckpt\n",
    "from datasets import dataset_dict"
   ]
  },
  {
   "cell_type": "code",
   "execution_count": 2,
   "metadata": {},
   "outputs": [],
   "source": [
    "hparams = {\n",
    "    \"root_dir\": \"dataset/WAT/breville\",\n",
    "    \"dataset_name\": \"colmap_ngpa_render\",\n",
    "    \"exp_name\": \"breville\",\n",
    "    \"downsample\": 1.0,\n",
    "    \"num_epochs\": 20,\n",
    "    \"batch_size\": 8192,\n",
    "    \"lr\": 1e-2,\n",
    "    \"eval_lpips\": True,\n",
    "    \"task_curr\": 4,\n",
    "    \"task_number\": 5,\n",
    "    \"dim_a\": 48,\n",
    "    \"dim_g\": 16,\n",
    "    \"scale\": 8.0,\n",
    "    \"vocab_size\": 5,\n",
    "    \"weight_path\": \"ckpts/NGPGv2/colmap_ngpa/breville/epoch=19-v6.ckpt\",\n",
    "    \"render_fname\": \"UB\",\n",
    "    \"val_only\": True,\n",
    "    \"use_exposure\": False,\n",
    "}\n",
    "hparams = SimpleNamespace(**hparams)"
   ]
  },
  {
   "cell_type": "markdown",
   "metadata": {},
   "source": [
    "### Setup"
   ]
  },
  {
   "cell_type": "code",
   "execution_count": 4,
   "metadata": {},
   "outputs": [
    {
     "name": "stdout",
     "output_type": "stream",
     "text": [
      "self.img_wh = (1920, 1440)\n",
      "[test] near_far = 0.2990965247154236/60.96563720703125, scale = 7.620704650878906\n",
      "Loading 34 test images ...\n"
     ]
    },
    {
     "name": "stderr",
     "output_type": "stream",
     "text": [
      "100%|██████████| 34/34 [00:02<00:00, 12.23it/s]\n"
     ]
    },
    {
     "name": "stdout",
     "output_type": "stream",
     "text": [
      "self.poses_interpolate = torch.Size([2934, 3, 4]), self.ts_interpolate = torch.Size([2934]), self.task_ids_interpolate = 2934\n"
     ]
    }
   ],
   "source": [
    "dataset = dataset_dict[hparams.dataset_name]\n",
    "kwargs = {'root_dir': hparams.root_dir,\n",
    "        'downsample': hparams.downsample}\n",
    "test_dataset = dataset(split='test', **kwargs)"
   ]
  },
  {
   "cell_type": "code",
   "execution_count": null,
   "metadata": {},
   "outputs": [],
   "source": [
    "test_dataset[0]"
   ]
  },
  {
   "cell_type": "code",
   "execution_count": null,
   "metadata": {},
   "outputs": [],
   "source": []
  },
  {
   "cell_type": "code",
   "execution_count": null,
   "metadata": {},
   "outputs": [],
   "source": [
    "rgb_act = 'None' if hparams.use_exposure else 'Sigmoid'\n",
    "model = NGPGv2(scale=hparams.scale, vocab_size=hparams.task_curr+1, rgb_act=rgb_act, dim_a=hparams.dim_a, dim_g=hparams.dim_g)\n",
    "G = model.grid_size\n",
    "model.register_buffer('density_grid', torch.zeros(model.cascades, G**3))\n",
    "model.register_buffer('grid_coords', create_meshgrid3d(G, G, G, False, dtype=torch.int32).reshape(-1, 3))"
   ]
  },
  {
   "cell_type": "code",
   "execution_count": null,
   "metadata": {},
   "outputs": [],
   "source": [
    "load_ckpt(model, hparams.weight_path)"
   ]
  },
  {
   "cell_type": "code",
   "execution_count": null,
   "metadata": {},
   "outputs": [],
   "source": [
    "model"
   ]
  },
  {
   "cell_type": "code",
   "execution_count": null,
   "metadata": {},
   "outputs": [],
   "source": [
    "list(model.named_buffers())"
   ]
  },
  {
   "cell_type": "code",
   "execution_count": null,
   "metadata": {},
   "outputs": [],
   "source": [
    "test_dataset.directions"
   ]
  },
  {
   "cell_type": "code",
   "execution_count": null,
   "metadata": {},
   "outputs": [],
   "source": []
  }
 ],
 "metadata": {
  "kernelspec": {
   "display_name": "CLNeRF",
   "language": "python",
   "name": "python3"
  },
  "language_info": {
   "codemirror_mode": {
    "name": "ipython",
    "version": 3
   },
   "file_extension": ".py",
   "mimetype": "text/x-python",
   "name": "python",
   "nbconvert_exporter": "python",
   "pygments_lexer": "ipython3",
   "version": "3.8.18"
  }
 },
 "nbformat": 4,
 "nbformat_minor": 2
}
